{
 "cells": [
  {
   "cell_type": "code",
   "execution_count": 1,
   "metadata": {},
   "outputs": [],
   "source": [
    "from customerSeg.config import raw_dir\n",
    "\n",
    "from pathlib import Path\n",
    "import requests\n",
    "import re"
   ]
  },
  {
   "cell_type": "code",
   "execution_count": 2,
   "metadata": {},
   "outputs": [],
   "source": [
    "url = \"https://mathcs.org/statistics/datasets/MLBPlayerSalaries.xlsx\" # just a small toy dataset"
   ]
  },
  {
   "cell_type": "code",
   "execution_count": 3,
   "metadata": {},
   "outputs": [],
   "source": [
    "response = requests.get(url)"
   ]
  },
  {
   "cell_type": "code",
   "execution_count": 4,
   "metadata": {},
   "outputs": [
    {
     "name": "stdout",
     "output_type": "stream",
     "text": [
      "/Users/jared/DevProjects/customer-segmenter/data/raw/MLBPlayerSalaries.xlsx\n"
     ]
    }
   ],
   "source": [
    "filepath = raw_dir / Path(url).name\n",
    "print(filepath)"
   ]
  },
  {
   "cell_type": "code",
   "execution_count": 5,
   "metadata": {},
   "outputs": [],
   "source": [
    "with open(filepath, 'wb') as f:\n",
    "    f.write(response.content)"
   ]
  },
  {
   "cell_type": "code",
   "execution_count": 6,
   "metadata": {},
   "outputs": [],
   "source": [
    "# checking quality of download\n",
    "\n",
    "import pandas as pd\n",
    "\n",
    "df = pd.read_excel(filepath, engine='openpyxl')"
   ]
  },
  {
   "cell_type": "code",
   "execution_count": 7,
   "metadata": {},
   "outputs": [
    {
     "data": {
      "text/html": [
       "<div>\n",
       "<style scoped>\n",
       "    .dataframe tbody tr th:only-of-type {\n",
       "        vertical-align: middle;\n",
       "    }\n",
       "\n",
       "    .dataframe tbody tr th {\n",
       "        vertical-align: top;\n",
       "    }\n",
       "\n",
       "    .dataframe thead th {\n",
       "        text-align: right;\n",
       "    }\n",
       "</style>\n",
       "<table border=\"1\" class=\"dataframe\">\n",
       "  <thead>\n",
       "    <tr style=\"text-align: right;\">\n",
       "      <th></th>\n",
       "      <th>Year</th>\n",
       "      <th>Player</th>\n",
       "      <th>Salary</th>\n",
       "      <th>Position</th>\n",
       "      <th>Team</th>\n",
       "    </tr>\n",
       "  </thead>\n",
       "  <tbody>\n",
       "    <tr>\n",
       "      <th>0</th>\n",
       "      <td>1988</td>\n",
       "      <td>Mike Witt</td>\n",
       "      <td>1400000</td>\n",
       "      <td>Pitcher</td>\n",
       "      <td>Los Angeles Angels</td>\n",
       "    </tr>\n",
       "    <tr>\n",
       "      <th>1</th>\n",
       "      <td>1988</td>\n",
       "      <td>George Hendrick</td>\n",
       "      <td>989333</td>\n",
       "      <td>Outfielder</td>\n",
       "      <td>Los Angeles Angels</td>\n",
       "    </tr>\n",
       "    <tr>\n",
       "      <th>2</th>\n",
       "      <td>1988</td>\n",
       "      <td>Chili Davis</td>\n",
       "      <td>950000</td>\n",
       "      <td>Outfielder</td>\n",
       "      <td>Los Angeles Angels</td>\n",
       "    </tr>\n",
       "    <tr>\n",
       "      <th>3</th>\n",
       "      <td>1988</td>\n",
       "      <td>Brian Downing</td>\n",
       "      <td>900000</td>\n",
       "      <td>Designated Hitter</td>\n",
       "      <td>Los Angeles Angels</td>\n",
       "    </tr>\n",
       "    <tr>\n",
       "      <th>4</th>\n",
       "      <td>1988</td>\n",
       "      <td>Bob Boone</td>\n",
       "      <td>883000</td>\n",
       "      <td>Catcher</td>\n",
       "      <td>Los Angeles Angels</td>\n",
       "    </tr>\n",
       "    <tr>\n",
       "      <th>...</th>\n",
       "      <td>...</td>\n",
       "      <td>...</td>\n",
       "      <td>...</td>\n",
       "      <td>...</td>\n",
       "      <td>...</td>\n",
       "    </tr>\n",
       "    <tr>\n",
       "      <th>19538</th>\n",
       "      <td>2011</td>\n",
       "      <td>Gustavo Molina</td>\n",
       "      <td>455000</td>\n",
       "      <td>Catcher</td>\n",
       "      <td>New York Yankees</td>\n",
       "    </tr>\n",
       "    <tr>\n",
       "      <th>19539</th>\n",
       "      <td>2011</td>\n",
       "      <td>Ivan Nova</td>\n",
       "      <td>432900</td>\n",
       "      <td>Pitcher</td>\n",
       "      <td>New York Yankees</td>\n",
       "    </tr>\n",
       "    <tr>\n",
       "      <th>19540</th>\n",
       "      <td>2011</td>\n",
       "      <td>Colin Curtis</td>\n",
       "      <td>420400</td>\n",
       "      <td>Outfielder</td>\n",
       "      <td>New York Yankees</td>\n",
       "    </tr>\n",
       "    <tr>\n",
       "      <th>19541</th>\n",
       "      <td>2011</td>\n",
       "      <td>Eduardo Nunez</td>\n",
       "      <td>419300</td>\n",
       "      <td>Shortstop</td>\n",
       "      <td>New York Yankees</td>\n",
       "    </tr>\n",
       "    <tr>\n",
       "      <th>19542</th>\n",
       "      <td>2011</td>\n",
       "      <td>Reegie Corona</td>\n",
       "      <td>414000</td>\n",
       "      <td>Second Baseman</td>\n",
       "      <td>New York Yankees</td>\n",
       "    </tr>\n",
       "  </tbody>\n",
       "</table>\n",
       "<p>19543 rows × 5 columns</p>\n",
       "</div>"
      ],
      "text/plain": [
       "       Year           Player   Salary           Position                Team\n",
       "0      1988        Mike Witt  1400000            Pitcher  Los Angeles Angels\n",
       "1      1988  George Hendrick   989333         Outfielder  Los Angeles Angels\n",
       "2      1988      Chili Davis   950000         Outfielder  Los Angeles Angels\n",
       "3      1988    Brian Downing   900000  Designated Hitter  Los Angeles Angels\n",
       "4      1988        Bob Boone   883000            Catcher  Los Angeles Angels\n",
       "...     ...              ...      ...                ...                 ...\n",
       "19538  2011   Gustavo Molina   455000            Catcher    New York Yankees\n",
       "19539  2011        Ivan Nova   432900            Pitcher    New York Yankees\n",
       "19540  2011     Colin Curtis   420400         Outfielder    New York Yankees\n",
       "19541  2011    Eduardo Nunez   419300          Shortstop    New York Yankees\n",
       "19542  2011    Reegie Corona   414000     Second Baseman    New York Yankees\n",
       "\n",
       "[19543 rows x 5 columns]"
      ]
     },
     "execution_count": 7,
     "metadata": {},
     "output_type": "execute_result"
    }
   ],
   "source": [
    "df"
   ]
  },
  {
   "cell_type": "code",
   "execution_count": 8,
   "metadata": {},
   "outputs": [
    {
     "data": {
      "text/plain": [
       "PosixPath('/Users/jared/DevProjects/customer-segmenter/data/raw/baseball/MLBPlayerSalaries.xlsx')"
      ]
     },
     "execution_count": 8,
     "metadata": {},
     "output_type": "execute_result"
    }
   ],
   "source": [
    "### handling subdirectory\n",
    "sub_dir = raw_dir / 'baseball' / Path(url).name\n",
    "sub_dir"
   ]
  },
  {
   "cell_type": "code",
   "execution_count": 9,
   "metadata": {},
   "outputs": [],
   "source": [
    "def _mkdir(path):\n",
    "    # path : PosixPath\n",
    "    try:\n",
    "        path.mkdir(parents=True, exist_ok=False)\n",
    "    except FileExistsError:\n",
    "        print(f'Path {path} already exists')\n",
    "\n",
    "\n",
    "def from_url(url, sub_dir='', mkdir=False):\n",
    "    try:\n",
    "        response = requests.get(url, stream=True) #stream=True for large files\n",
    "        response.raise_for_status()\n",
    "    except requests.RequestException as e:\n",
    "        print(f'Connection failed to source {url}')\n",
    "        print(e)\n",
    "        return 9\n",
    "    sub_path = raw_dir / sub_dir \n",
    "    if mkdir:\n",
    "        _mkdir(sub_path)\n",
    "    \n",
    "    filepath = sub_path / Path(url).name\n",
    "    with open(filepath, 'wb') as f:\n",
    "        \n",
    "        f.writelines(response.iter_content(1024))\n",
    "        "
   ]
  },
  {
   "cell_type": "code",
   "execution_count": 10,
   "metadata": {},
   "outputs": [],
   "source": [
    "from_url(url, 'baseball', False)"
   ]
  },
  {
   "cell_type": "code",
   "execution_count": 11,
   "metadata": {},
   "outputs": [
    {
     "name": "stdout",
     "output_type": "stream",
     "text": [
      "Path /Users/jared/DevProjects/customer-segmenter/data/raw/baseball already exists\n"
     ]
    }
   ],
   "source": [
    "from_url(url, 'baseball', True)"
   ]
  },
  {
   "cell_type": "code",
   "execution_count": 12,
   "metadata": {},
   "outputs": [
    {
     "name": "stdout",
     "output_type": "stream",
     "text": [
      "Connection failed to source https://www.bbbbbbb88888.com/nope.csv\n",
      "HTTPSConnectionPool(host='www.bbbbbbb88888.com', port=443): Max retries exceeded with url: /nope.csv (Caused by NewConnectionError('<urllib3.connection.HTTPSConnection object at 0x115793eb0>: Failed to establish a new connection: [Errno 61] Connection refused'))\n"
     ]
    },
    {
     "data": {
      "text/plain": [
       "9"
      ]
     },
     "execution_count": 12,
     "metadata": {},
     "output_type": "execute_result"
    }
   ],
   "source": [
    "from_url('https://www.bbbbbbb88888.com/nope.csv')"
   ]
  },
  {
   "cell_type": "markdown",
   "metadata": {},
   "source": [
    "### Using pandas.io to handle reading all types of files"
   ]
  },
  {
   "cell_type": "code",
   "execution_count": 28,
   "metadata": {},
   "outputs": [],
   "source": [
    "from io import StringIO\n",
    "from pandas.io.common import is_url, is_file_like, is_fsspec_url\n",
    "from pandas.io.parsers import get_filepath_or_buffer"
   ]
  },
  {
   "cell_type": "code",
   "execution_count": 30,
   "metadata": {},
   "outputs": [],
   "source": [
    "source = StringIO(str(filepath))"
   ]
  },
  {
   "cell_type": "code",
   "execution_count": 34,
   "metadata": {},
   "outputs": [
    {
     "data": {
      "text/plain": [
       "True"
      ]
     },
     "execution_count": 34,
     "metadata": {},
     "output_type": "execute_result"
    }
   ],
   "source": [
    "is_file_like(source)"
   ]
  },
  {
   "cell_type": "code",
   "execution_count": 17,
   "metadata": {},
   "outputs": [
    {
     "data": {
      "text/plain": [
       "('/Users/jared/DevProjects/customer-segmenter/data/raw/MLBPlayerSalaries.xlsx',\n",
       " None,\n",
       " None,\n",
       " False)"
      ]
     },
     "execution_count": 17,
     "metadata": {},
     "output_type": "execute_result"
    }
   ],
   "source": [
    "get_filepath_or_buffer(filepath)"
   ]
  },
  {
   "cell_type": "code",
   "execution_count": 21,
   "metadata": {},
   "outputs": [
    {
     "data": {
      "text/plain": [
       "True"
      ]
     },
     "execution_count": 21,
     "metadata": {},
     "output_type": "execute_result"
    }
   ],
   "source": [
    "is_fsspec_url('s3://example-bucket/path/to/object')"
   ]
  },
  {
   "cell_type": "code",
   "execution_count": 22,
   "metadata": {},
   "outputs": [
    {
     "data": {
      "text/plain": [
       "True"
      ]
     },
     "execution_count": 22,
     "metadata": {},
     "output_type": "execute_result"
    }
   ],
   "source": [
    "is_url('https://mathcs.org/statistics/datasets/MLBPlayerSalaries.xlsx')"
   ]
  },
  {
   "cell_type": "code",
   "execution_count": 35,
   "metadata": {},
   "outputs": [
    {
     "data": {
      "text/plain": [
       "False"
      ]
     },
     "execution_count": 35,
     "metadata": {},
     "output_type": "execute_result"
    }
   ],
   "source": [
    "s3_url = 'http://s3-aws-region.amazonaws.com/bucket/key1/key2'\n",
    "is_fsspec_url(s3_url)"
   ]
  },
  {
   "cell_type": "code",
   "execution_count": null,
   "metadata": {},
   "outputs": [],
   "source": []
  },
  {
   "cell_type": "markdown",
   "metadata": {},
   "source": [
    "### From JSON url"
   ]
  },
  {
   "cell_type": "code",
   "execution_count": 84,
   "metadata": {},
   "outputs": [],
   "source": [
    "import json"
   ]
  },
  {
   "cell_type": "code",
   "execution_count": 97,
   "metadata": {},
   "outputs": [],
   "source": [
    "url = 'http://api.worldbank.org/v2/countries/USA/indicators/NY.GDP.MKTP.CD?per_page=5000&format=json'\n",
    "\n",
    "response = requests.get(url)"
   ]
  },
  {
   "cell_type": "code",
   "execution_count": 104,
   "metadata": {},
   "outputs": [
    {
     "data": {
      "text/plain": [
       "[{'page': 1,\n",
       "  'pages': 1,\n",
       "  'per_page': 5000,\n",
       "  'total': 61,\n",
       "  'sourceid': '2',\n",
       "  'lastupdated': '2020-12-16'},\n",
       " [{'indicator': {'id': 'NY.GDP.MKTP.CD', 'value': 'GDP (current US$)'},\n",
       "   'country': {'id': 'US', 'value': 'United States'},\n",
       "   'countryiso3code': 'USA',\n",
       "   'date': '2020',\n",
       "   'value': None,\n",
       "   'unit': '',\n",
       "   'obs_status': '',\n",
       "   'decimal': 0},\n",
       "  {'indicator': {'id': 'NY.GDP.MKTP.CD', 'value': 'GDP (current US$)'},\n",
       "   'country': {'id': 'US', 'value': 'United States'},\n",
       "   'countryiso3code': 'USA',\n",
       "   'date': '2019',\n",
       "   'value': 21433226000000,\n",
       "   'unit': '',\n",
       "   'obs_status': '',\n",
       "   'decimal': 0},\n",
       "  {'indicator': {'id': 'NY.GDP.MKTP.CD', 'value': 'GDP (current US$)'},\n",
       "   'country': {'id': 'US', 'value': 'United States'},\n",
       "   'countryiso3code': 'USA',\n",
       "   'date': '2018',\n",
       "   'value': 20580159776000,\n",
       "   'unit': '',\n",
       "   'obs_status': '',\n",
       "   'decimal': 0},\n",
       "  {'indicator': {'id': 'NY.GDP.MKTP.CD', 'value': 'GDP (current US$)'},\n",
       "   'country': {'id': 'US', 'value': 'United States'},\n",
       "   'countryiso3code': 'USA',\n",
       "   'date': '2017',\n",
       "   'value': 19519353692000,\n",
       "   'unit': '',\n",
       "   'obs_status': '',\n",
       "   'decimal': 0},\n",
       "  {'indicator': {'id': 'NY.GDP.MKTP.CD', 'value': 'GDP (current US$)'},\n",
       "   'country': {'id': 'US', 'value': 'United States'},\n",
       "   'countryiso3code': 'USA',\n",
       "   'date': '2016',\n",
       "   'value': 18714960538000,\n",
       "   'unit': '',\n",
       "   'obs_status': '',\n",
       "   'decimal': 0},\n",
       "  {'indicator': {'id': 'NY.GDP.MKTP.CD', 'value': 'GDP (current US$)'},\n",
       "   'country': {'id': 'US', 'value': 'United States'},\n",
       "   'countryiso3code': 'USA',\n",
       "   'date': '2015',\n",
       "   'value': 18224704440000,\n",
       "   'unit': '',\n",
       "   'obs_status': '',\n",
       "   'decimal': 0},\n",
       "  {'indicator': {'id': 'NY.GDP.MKTP.CD', 'value': 'GDP (current US$)'},\n",
       "   'country': {'id': 'US', 'value': 'United States'},\n",
       "   'countryiso3code': 'USA',\n",
       "   'date': '2014',\n",
       "   'value': 17527163695000,\n",
       "   'unit': '',\n",
       "   'obs_status': '',\n",
       "   'decimal': 0},\n",
       "  {'indicator': {'id': 'NY.GDP.MKTP.CD', 'value': 'GDP (current US$)'},\n",
       "   'country': {'id': 'US', 'value': 'United States'},\n",
       "   'countryiso3code': 'USA',\n",
       "   'date': '2013',\n",
       "   'value': 16784849196000,\n",
       "   'unit': '',\n",
       "   'obs_status': '',\n",
       "   'decimal': 0},\n",
       "  {'indicator': {'id': 'NY.GDP.MKTP.CD', 'value': 'GDP (current US$)'},\n",
       "   'country': {'id': 'US', 'value': 'United States'},\n",
       "   'countryiso3code': 'USA',\n",
       "   'date': '2012',\n",
       "   'value': 16197007349000,\n",
       "   'unit': '',\n",
       "   'obs_status': '',\n",
       "   'decimal': 0},\n",
       "  {'indicator': {'id': 'NY.GDP.MKTP.CD', 'value': 'GDP (current US$)'},\n",
       "   'country': {'id': 'US', 'value': 'United States'},\n",
       "   'countryiso3code': 'USA',\n",
       "   'date': '2011',\n",
       "   'value': 15542581104000,\n",
       "   'unit': '',\n",
       "   'obs_status': '',\n",
       "   'decimal': 0},\n",
       "  {'indicator': {'id': 'NY.GDP.MKTP.CD', 'value': 'GDP (current US$)'},\n",
       "   'country': {'id': 'US', 'value': 'United States'},\n",
       "   'countryiso3code': 'USA',\n",
       "   'date': '2010',\n",
       "   'value': 14992052727000,\n",
       "   'unit': '',\n",
       "   'obs_status': '',\n",
       "   'decimal': 0},\n",
       "  {'indicator': {'id': 'NY.GDP.MKTP.CD', 'value': 'GDP (current US$)'},\n",
       "   'country': {'id': 'US', 'value': 'United States'},\n",
       "   'countryiso3code': 'USA',\n",
       "   'date': '2009',\n",
       "   'value': 14448933025000,\n",
       "   'unit': '',\n",
       "   'obs_status': '',\n",
       "   'decimal': 0},\n",
       "  {'indicator': {'id': 'NY.GDP.MKTP.CD', 'value': 'GDP (current US$)'},\n",
       "   'country': {'id': 'US', 'value': 'United States'},\n",
       "   'countryiso3code': 'USA',\n",
       "   'date': '2008',\n",
       "   'value': 14712844084000,\n",
       "   'unit': '',\n",
       "   'obs_status': '',\n",
       "   'decimal': 0},\n",
       "  {'indicator': {'id': 'NY.GDP.MKTP.CD', 'value': 'GDP (current US$)'},\n",
       "   'country': {'id': 'US', 'value': 'United States'},\n",
       "   'countryiso3code': 'USA',\n",
       "   'date': '2007',\n",
       "   'value': 14451858656000,\n",
       "   'unit': '',\n",
       "   'obs_status': '',\n",
       "   'decimal': 0},\n",
       "  {'indicator': {'id': 'NY.GDP.MKTP.CD', 'value': 'GDP (current US$)'},\n",
       "   'country': {'id': 'US', 'value': 'United States'},\n",
       "   'countryiso3code': 'USA',\n",
       "   'date': '2006',\n",
       "   'value': 13814611414000,\n",
       "   'unit': '',\n",
       "   'obs_status': '',\n",
       "   'decimal': 0},\n",
       "  {'indicator': {'id': 'NY.GDP.MKTP.CD', 'value': 'GDP (current US$)'},\n",
       "   'country': {'id': 'US', 'value': 'United States'},\n",
       "   'countryiso3code': 'USA',\n",
       "   'date': '2005',\n",
       "   'value': 13036640230000,\n",
       "   'unit': '',\n",
       "   'obs_status': '',\n",
       "   'decimal': 0},\n",
       "  {'indicator': {'id': 'NY.GDP.MKTP.CD', 'value': 'GDP (current US$)'},\n",
       "   'country': {'id': 'US', 'value': 'United States'},\n",
       "   'countryiso3code': 'USA',\n",
       "   'date': '2004',\n",
       "   'value': 12213729147000,\n",
       "   'unit': '',\n",
       "   'obs_status': '',\n",
       "   'decimal': 0},\n",
       "  {'indicator': {'id': 'NY.GDP.MKTP.CD', 'value': 'GDP (current US$)'},\n",
       "   'country': {'id': 'US', 'value': 'United States'},\n",
       "   'countryiso3code': 'USA',\n",
       "   'date': '2003',\n",
       "   'value': 11458243878000,\n",
       "   'unit': '',\n",
       "   'obs_status': '',\n",
       "   'decimal': 0},\n",
       "  {'indicator': {'id': 'NY.GDP.MKTP.CD', 'value': 'GDP (current US$)'},\n",
       "   'country': {'id': 'US', 'value': 'United States'},\n",
       "   'countryiso3code': 'USA',\n",
       "   'date': '2002',\n",
       "   'value': 10936419054000,\n",
       "   'unit': '',\n",
       "   'obs_status': '',\n",
       "   'decimal': 0},\n",
       "  {'indicator': {'id': 'NY.GDP.MKTP.CD', 'value': 'GDP (current US$)'},\n",
       "   'country': {'id': 'US', 'value': 'United States'},\n",
       "   'countryiso3code': 'USA',\n",
       "   'date': '2001',\n",
       "   'value': 10581821399000,\n",
       "   'unit': '',\n",
       "   'obs_status': '',\n",
       "   'decimal': 0},\n",
       "  {'indicator': {'id': 'NY.GDP.MKTP.CD', 'value': 'GDP (current US$)'},\n",
       "   'country': {'id': 'US', 'value': 'United States'},\n",
       "   'countryiso3code': 'USA',\n",
       "   'date': '2000',\n",
       "   'value': 10252345464000,\n",
       "   'unit': '',\n",
       "   'obs_status': '',\n",
       "   'decimal': 0},\n",
       "  {'indicator': {'id': 'NY.GDP.MKTP.CD', 'value': 'GDP (current US$)'},\n",
       "   'country': {'id': 'US', 'value': 'United States'},\n",
       "   'countryiso3code': 'USA',\n",
       "   'date': '1999',\n",
       "   'value': 9630664202000,\n",
       "   'unit': '',\n",
       "   'obs_status': '',\n",
       "   'decimal': 0},\n",
       "  {'indicator': {'id': 'NY.GDP.MKTP.CD', 'value': 'GDP (current US$)'},\n",
       "   'country': {'id': 'US', 'value': 'United States'},\n",
       "   'countryiso3code': 'USA',\n",
       "   'date': '1998',\n",
       "   'value': 9062818202000,\n",
       "   'unit': '',\n",
       "   'obs_status': '',\n",
       "   'decimal': 0},\n",
       "  {'indicator': {'id': 'NY.GDP.MKTP.CD', 'value': 'GDP (current US$)'},\n",
       "   'country': {'id': 'US', 'value': 'United States'},\n",
       "   'countryiso3code': 'USA',\n",
       "   'date': '1997',\n",
       "   'value': 8577554457000,\n",
       "   'unit': '',\n",
       "   'obs_status': '',\n",
       "   'decimal': 0},\n",
       "  {'indicator': {'id': 'NY.GDP.MKTP.CD', 'value': 'GDP (current US$)'},\n",
       "   'country': {'id': 'US', 'value': 'United States'},\n",
       "   'countryiso3code': 'USA',\n",
       "   'date': '1996',\n",
       "   'value': 8073122000000,\n",
       "   'unit': '',\n",
       "   'obs_status': '',\n",
       "   'decimal': 0},\n",
       "  {'indicator': {'id': 'NY.GDP.MKTP.CD', 'value': 'GDP (current US$)'},\n",
       "   'country': {'id': 'US', 'value': 'United States'},\n",
       "   'countryiso3code': 'USA',\n",
       "   'date': '1995',\n",
       "   'value': 7639749000000,\n",
       "   'unit': '',\n",
       "   'obs_status': '',\n",
       "   'decimal': 0},\n",
       "  {'indicator': {'id': 'NY.GDP.MKTP.CD', 'value': 'GDP (current US$)'},\n",
       "   'country': {'id': 'US', 'value': 'United States'},\n",
       "   'countryiso3code': 'USA',\n",
       "   'date': '1994',\n",
       "   'value': 7287236000000,\n",
       "   'unit': '',\n",
       "   'obs_status': '',\n",
       "   'decimal': 0},\n",
       "  {'indicator': {'id': 'NY.GDP.MKTP.CD', 'value': 'GDP (current US$)'},\n",
       "   'country': {'id': 'US', 'value': 'United States'},\n",
       "   'countryiso3code': 'USA',\n",
       "   'date': '1993',\n",
       "   'value': 6858559000000,\n",
       "   'unit': '',\n",
       "   'obs_status': '',\n",
       "   'decimal': 0},\n",
       "  {'indicator': {'id': 'NY.GDP.MKTP.CD', 'value': 'GDP (current US$)'},\n",
       "   'country': {'id': 'US', 'value': 'United States'},\n",
       "   'countryiso3code': 'USA',\n",
       "   'date': '1992',\n",
       "   'value': 6520327000000,\n",
       "   'unit': '',\n",
       "   'obs_status': '',\n",
       "   'decimal': 0},\n",
       "  {'indicator': {'id': 'NY.GDP.MKTP.CD', 'value': 'GDP (current US$)'},\n",
       "   'country': {'id': 'US', 'value': 'United States'},\n",
       "   'countryiso3code': 'USA',\n",
       "   'date': '1991',\n",
       "   'value': 6158129000000,\n",
       "   'unit': '',\n",
       "   'obs_status': '',\n",
       "   'decimal': 0},\n",
       "  {'indicator': {'id': 'NY.GDP.MKTP.CD', 'value': 'GDP (current US$)'},\n",
       "   'country': {'id': 'US', 'value': 'United States'},\n",
       "   'countryiso3code': 'USA',\n",
       "   'date': '1990',\n",
       "   'value': 5963144000000,\n",
       "   'unit': '',\n",
       "   'obs_status': '',\n",
       "   'decimal': 0},\n",
       "  {'indicator': {'id': 'NY.GDP.MKTP.CD', 'value': 'GDP (current US$)'},\n",
       "   'country': {'id': 'US', 'value': 'United States'},\n",
       "   'countryiso3code': 'USA',\n",
       "   'date': '1989',\n",
       "   'value': 5641580000000,\n",
       "   'unit': '',\n",
       "   'obs_status': '',\n",
       "   'decimal': 0},\n",
       "  {'indicator': {'id': 'NY.GDP.MKTP.CD', 'value': 'GDP (current US$)'},\n",
       "   'country': {'id': 'US', 'value': 'United States'},\n",
       "   'countryiso3code': 'USA',\n",
       "   'date': '1988',\n",
       "   'value': 5236438000000,\n",
       "   'unit': '',\n",
       "   'obs_status': '',\n",
       "   'decimal': 0},\n",
       "  {'indicator': {'id': 'NY.GDP.MKTP.CD', 'value': 'GDP (current US$)'},\n",
       "   'country': {'id': 'US', 'value': 'United States'},\n",
       "   'countryiso3code': 'USA',\n",
       "   'date': '1987',\n",
       "   'value': 4855215000000,\n",
       "   'unit': '',\n",
       "   'obs_status': '',\n",
       "   'decimal': 0},\n",
       "  {'indicator': {'id': 'NY.GDP.MKTP.CD', 'value': 'GDP (current US$)'},\n",
       "   'country': {'id': 'US', 'value': 'United States'},\n",
       "   'countryiso3code': 'USA',\n",
       "   'date': '1986',\n",
       "   'value': 4579631000000,\n",
       "   'unit': '',\n",
       "   'obs_status': '',\n",
       "   'decimal': 0},\n",
       "  {'indicator': {'id': 'NY.GDP.MKTP.CD', 'value': 'GDP (current US$)'},\n",
       "   'country': {'id': 'US', 'value': 'United States'},\n",
       "   'countryiso3code': 'USA',\n",
       "   'date': '1985',\n",
       "   'value': 4338979000000,\n",
       "   'unit': '',\n",
       "   'obs_status': '',\n",
       "   'decimal': 0},\n",
       "  {'indicator': {'id': 'NY.GDP.MKTP.CD', 'value': 'GDP (current US$)'},\n",
       "   'country': {'id': 'US', 'value': 'United States'},\n",
       "   'countryiso3code': 'USA',\n",
       "   'date': '1984',\n",
       "   'value': 4037613000000,\n",
       "   'unit': '',\n",
       "   'obs_status': '',\n",
       "   'decimal': 0},\n",
       "  {'indicator': {'id': 'NY.GDP.MKTP.CD', 'value': 'GDP (current US$)'},\n",
       "   'country': {'id': 'US', 'value': 'United States'},\n",
       "   'countryiso3code': 'USA',\n",
       "   'date': '1983',\n",
       "   'value': 3634038000000,\n",
       "   'unit': '',\n",
       "   'obs_status': '',\n",
       "   'decimal': 0},\n",
       "  {'indicator': {'id': 'NY.GDP.MKTP.CD', 'value': 'GDP (current US$)'},\n",
       "   'country': {'id': 'US', 'value': 'United States'},\n",
       "   'countryiso3code': 'USA',\n",
       "   'date': '1982',\n",
       "   'value': 3343789000000,\n",
       "   'unit': '',\n",
       "   'obs_status': '',\n",
       "   'decimal': 0},\n",
       "  {'indicator': {'id': 'NY.GDP.MKTP.CD', 'value': 'GDP (current US$)'},\n",
       "   'country': {'id': 'US', 'value': 'United States'},\n",
       "   'countryiso3code': 'USA',\n",
       "   'date': '1981',\n",
       "   'value': 3207042000000,\n",
       "   'unit': '',\n",
       "   'obs_status': '',\n",
       "   'decimal': 0},\n",
       "  {'indicator': {'id': 'NY.GDP.MKTP.CD', 'value': 'GDP (current US$)'},\n",
       "   'country': {'id': 'US', 'value': 'United States'},\n",
       "   'countryiso3code': 'USA',\n",
       "   'date': '1980',\n",
       "   'value': 2857307000000,\n",
       "   'unit': '',\n",
       "   'obs_status': '',\n",
       "   'decimal': 0},\n",
       "  {'indicator': {'id': 'NY.GDP.MKTP.CD', 'value': 'GDP (current US$)'},\n",
       "   'country': {'id': 'US', 'value': 'United States'},\n",
       "   'countryiso3code': 'USA',\n",
       "   'date': '1979',\n",
       "   'value': 2627334000000,\n",
       "   'unit': '',\n",
       "   'obs_status': '',\n",
       "   'decimal': 0},\n",
       "  {'indicator': {'id': 'NY.GDP.MKTP.CD', 'value': 'GDP (current US$)'},\n",
       "   'country': {'id': 'US', 'value': 'United States'},\n",
       "   'countryiso3code': 'USA',\n",
       "   'date': '1978',\n",
       "   'value': 2351599000000,\n",
       "   'unit': '',\n",
       "   'obs_status': '',\n",
       "   'decimal': 0},\n",
       "  {'indicator': {'id': 'NY.GDP.MKTP.CD', 'value': 'GDP (current US$)'},\n",
       "   'country': {'id': 'US', 'value': 'United States'},\n",
       "   'countryiso3code': 'USA',\n",
       "   'date': '1977',\n",
       "   'value': 2081826000000,\n",
       "   'unit': '',\n",
       "   'obs_status': '',\n",
       "   'decimal': 0},\n",
       "  {'indicator': {'id': 'NY.GDP.MKTP.CD', 'value': 'GDP (current US$)'},\n",
       "   'country': {'id': 'US', 'value': 'United States'},\n",
       "   'countryiso3code': 'USA',\n",
       "   'date': '1976',\n",
       "   'value': 1873412000000,\n",
       "   'unit': '',\n",
       "   'obs_status': '',\n",
       "   'decimal': 0},\n",
       "  {'indicator': {'id': 'NY.GDP.MKTP.CD', 'value': 'GDP (current US$)'},\n",
       "   'country': {'id': 'US', 'value': 'United States'},\n",
       "   'countryiso3code': 'USA',\n",
       "   'date': '1975',\n",
       "   'value': 1684904000000,\n",
       "   'unit': '',\n",
       "   'obs_status': '',\n",
       "   'decimal': 0},\n",
       "  {'indicator': {'id': 'NY.GDP.MKTP.CD', 'value': 'GDP (current US$)'},\n",
       "   'country': {'id': 'US', 'value': 'United States'},\n",
       "   'countryiso3code': 'USA',\n",
       "   'date': '1974',\n",
       "   'value': 1545243000000,\n",
       "   'unit': '',\n",
       "   'obs_status': '',\n",
       "   'decimal': 0},\n",
       "  {'indicator': {'id': 'NY.GDP.MKTP.CD', 'value': 'GDP (current US$)'},\n",
       "   'country': {'id': 'US', 'value': 'United States'},\n",
       "   'countryiso3code': 'USA',\n",
       "   'date': '1973',\n",
       "   'value': 1425376000000,\n",
       "   'unit': '',\n",
       "   'obs_status': '',\n",
       "   'decimal': 0},\n",
       "  {'indicator': {'id': 'NY.GDP.MKTP.CD', 'value': 'GDP (current US$)'},\n",
       "   'country': {'id': 'US', 'value': 'United States'},\n",
       "   'countryiso3code': 'USA',\n",
       "   'date': '1972',\n",
       "   'value': 1279110000000,\n",
       "   'unit': '',\n",
       "   'obs_status': '',\n",
       "   'decimal': 0},\n",
       "  {'indicator': {'id': 'NY.GDP.MKTP.CD', 'value': 'GDP (current US$)'},\n",
       "   'country': {'id': 'US', 'value': 'United States'},\n",
       "   'countryiso3code': 'USA',\n",
       "   'date': '1971',\n",
       "   'value': 1164850000000,\n",
       "   'unit': '',\n",
       "   'obs_status': '',\n",
       "   'decimal': 0},\n",
       "  {'indicator': {'id': 'NY.GDP.MKTP.CD', 'value': 'GDP (current US$)'},\n",
       "   'country': {'id': 'US', 'value': 'United States'},\n",
       "   'countryiso3code': 'USA',\n",
       "   'date': '1970',\n",
       "   'value': 1073303000000,\n",
       "   'unit': '',\n",
       "   'obs_status': '',\n",
       "   'decimal': 0},\n",
       "  {'indicator': {'id': 'NY.GDP.MKTP.CD', 'value': 'GDP (current US$)'},\n",
       "   'country': {'id': 'US', 'value': 'United States'},\n",
       "   'countryiso3code': 'USA',\n",
       "   'date': '1969',\n",
       "   'value': 1019900000000,\n",
       "   'unit': '',\n",
       "   'obs_status': '',\n",
       "   'decimal': 0},\n",
       "  {'indicator': {'id': 'NY.GDP.MKTP.CD', 'value': 'GDP (current US$)'},\n",
       "   'country': {'id': 'US', 'value': 'United States'},\n",
       "   'countryiso3code': 'USA',\n",
       "   'date': '1968',\n",
       "   'value': 942500000000,\n",
       "   'unit': '',\n",
       "   'obs_status': '',\n",
       "   'decimal': 0},\n",
       "  {'indicator': {'id': 'NY.GDP.MKTP.CD', 'value': 'GDP (current US$)'},\n",
       "   'country': {'id': 'US', 'value': 'United States'},\n",
       "   'countryiso3code': 'USA',\n",
       "   'date': '1967',\n",
       "   'value': 861700000000,\n",
       "   'unit': '',\n",
       "   'obs_status': '',\n",
       "   'decimal': 0},\n",
       "  {'indicator': {'id': 'NY.GDP.MKTP.CD', 'value': 'GDP (current US$)'},\n",
       "   'country': {'id': 'US', 'value': 'United States'},\n",
       "   'countryiso3code': 'USA',\n",
       "   'date': '1966',\n",
       "   'value': 815000000000,\n",
       "   'unit': '',\n",
       "   'obs_status': '',\n",
       "   'decimal': 0},\n",
       "  {'indicator': {'id': 'NY.GDP.MKTP.CD', 'value': 'GDP (current US$)'},\n",
       "   'country': {'id': 'US', 'value': 'United States'},\n",
       "   'countryiso3code': 'USA',\n",
       "   'date': '1965',\n",
       "   'value': 743700000000,\n",
       "   'unit': '',\n",
       "   'obs_status': '',\n",
       "   'decimal': 0},\n",
       "  {'indicator': {'id': 'NY.GDP.MKTP.CD', 'value': 'GDP (current US$)'},\n",
       "   'country': {'id': 'US', 'value': 'United States'},\n",
       "   'countryiso3code': 'USA',\n",
       "   'date': '1964',\n",
       "   'value': 685800000000,\n",
       "   'unit': '',\n",
       "   'obs_status': '',\n",
       "   'decimal': 0},\n",
       "  {'indicator': {'id': 'NY.GDP.MKTP.CD', 'value': 'GDP (current US$)'},\n",
       "   'country': {'id': 'US', 'value': 'United States'},\n",
       "   'countryiso3code': 'USA',\n",
       "   'date': '1963',\n",
       "   'value': 638600000000,\n",
       "   'unit': '',\n",
       "   'obs_status': '',\n",
       "   'decimal': 0},\n",
       "  {'indicator': {'id': 'NY.GDP.MKTP.CD', 'value': 'GDP (current US$)'},\n",
       "   'country': {'id': 'US', 'value': 'United States'},\n",
       "   'countryiso3code': 'USA',\n",
       "   'date': '1962',\n",
       "   'value': 605100000000,\n",
       "   'unit': '',\n",
       "   'obs_status': '',\n",
       "   'decimal': 0},\n",
       "  {'indicator': {'id': 'NY.GDP.MKTP.CD', 'value': 'GDP (current US$)'},\n",
       "   'country': {'id': 'US', 'value': 'United States'},\n",
       "   'countryiso3code': 'USA',\n",
       "   'date': '1961',\n",
       "   'value': 563300000000,\n",
       "   'unit': '',\n",
       "   'obs_status': '',\n",
       "   'decimal': 0},\n",
       "  {'indicator': {'id': 'NY.GDP.MKTP.CD', 'value': 'GDP (current US$)'},\n",
       "   'country': {'id': 'US', 'value': 'United States'},\n",
       "   'countryiso3code': 'USA',\n",
       "   'date': '1960',\n",
       "   'value': 543300000000,\n",
       "   'unit': '',\n",
       "   'obs_status': '',\n",
       "   'decimal': 0}]]"
      ]
     },
     "execution_count": 104,
     "metadata": {},
     "output_type": "execute_result"
    }
   ],
   "source": [
    "response.json()"
   ]
  },
  {
   "cell_type": "code",
   "execution_count": 105,
   "metadata": {},
   "outputs": [],
   "source": [
    "from_url('http://api.worldbank.org/v2/countries/USA/indicators/NY.GDP.MKTP.CD?per_page=5000&format=json')"
   ]
  },
  {
   "cell_type": "code",
   "execution_count": 136,
   "metadata": {},
   "outputs": [
    {
     "data": {
      "text/plain": [
       "PosixPath('/Users/jared/DevProjects/customer-segmenter/data/raw')"
      ]
     },
     "execution_count": 136,
     "metadata": {},
     "output_type": "execute_result"
    }
   ],
   "source": [
    "raw_dir"
   ]
  },
  {
   "cell_type": "code",
   "execution_count": null,
   "metadata": {},
   "outputs": [],
   "source": []
  }
 ],
 "metadata": {
  "kernelspec": {
   "display_name": "customer-segmenter",
   "language": "python",
   "name": "customer-segmenter"
  },
  "language_info": {
   "codemirror_mode": {
    "name": "ipython",
    "version": 3
   },
   "file_extension": ".py",
   "mimetype": "text/x-python",
   "name": "python",
   "nbconvert_exporter": "python",
   "pygments_lexer": "ipython3",
   "version": "3.8.5"
  }
 },
 "nbformat": 4,
 "nbformat_minor": 4
}
