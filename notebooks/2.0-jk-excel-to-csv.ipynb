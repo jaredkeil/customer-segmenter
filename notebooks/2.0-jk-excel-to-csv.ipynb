{
 "cells": [
  {
   "cell_type": "code",
   "execution_count": 2,
   "metadata": {},
   "outputs": [],
   "source": [
    "import pandas as pd\n",
    "import glob\n",
    "import os\n",
    "from pathlib import Path\n",
    "from customerSeg.config import data_dir"
   ]
  },
  {
   "cell_type": "code",
   "execution_count": 3,
   "metadata": {},
   "outputs": [
    {
     "data": {
      "text/plain": [
       "True"
      ]
     },
     "execution_count": 3,
     "metadata": {},
     "output_type": "execute_result"
    }
   ],
   "source": [
    "data_dir.exists()"
   ]
  },
  {
   "cell_type": "code",
   "execution_count": 5,
   "metadata": {},
   "outputs": [
    {
     "data": {
      "text/plain": [
       "'/Users/jared/DevProjects/customer-segmenter/data'"
      ]
     },
     "execution_count": 5,
     "metadata": {},
     "output_type": "execute_result"
    }
   ],
   "source": [
    "str(data_dir)\n"
   ]
  },
  {
   "cell_type": "code",
   "execution_count": 11,
   "metadata": {},
   "outputs": [
    {
     "data": {
      "text/plain": [
       "'/'"
      ]
     },
     "execution_count": 11,
     "metadata": {},
     "output_type": "execute_result"
    }
   ],
   "source": [
    "data_dir."
   ]
  },
  {
   "cell_type": "code",
   "execution_count": 12,
   "metadata": {},
   "outputs": [],
   "source": [
    "xlsx_dir = data_dir / 'extract' "
   ]
  },
  {
   "cell_type": "code",
   "execution_count": 14,
   "metadata": {},
   "outputs": [
    {
     "data": {
      "text/html": [
       "<div>\n",
       "<style scoped>\n",
       "    .dataframe tbody tr th:only-of-type {\n",
       "        vertical-align: middle;\n",
       "    }\n",
       "\n",
       "    .dataframe tbody tr th {\n",
       "        vertical-align: top;\n",
       "    }\n",
       "\n",
       "    .dataframe thead th {\n",
       "        text-align: right;\n",
       "    }\n",
       "</style>\n",
       "<table border=\"1\" class=\"dataframe\">\n",
       "  <thead>\n",
       "    <tr style=\"text-align: right;\">\n",
       "      <th></th>\n",
       "      <th>InvoiceNo</th>\n",
       "      <th>StockCode</th>\n",
       "      <th>Description</th>\n",
       "      <th>Quantity</th>\n",
       "      <th>InvoiceDate</th>\n",
       "      <th>UnitPrice</th>\n",
       "      <th>CustomerID</th>\n",
       "      <th>Country</th>\n",
       "    </tr>\n",
       "  </thead>\n",
       "  <tbody>\n",
       "    <tr>\n",
       "      <th>0</th>\n",
       "      <td>536365</td>\n",
       "      <td>85123A</td>\n",
       "      <td>WHITE HANGING HEART T-LIGHT HOLDER</td>\n",
       "      <td>6</td>\n",
       "      <td>12/01/10 08:26</td>\n",
       "      <td>2.55</td>\n",
       "      <td>17850.0</td>\n",
       "      <td>United Kingdom</td>\n",
       "    </tr>\n",
       "    <tr>\n",
       "      <th>1</th>\n",
       "      <td>536365</td>\n",
       "      <td>71053</td>\n",
       "      <td>WHITE METAL LANTERN</td>\n",
       "      <td>6</td>\n",
       "      <td>12/01/10 08:26</td>\n",
       "      <td>3.39</td>\n",
       "      <td>17850.0</td>\n",
       "      <td>United Kingdom</td>\n",
       "    </tr>\n",
       "    <tr>\n",
       "      <th>2</th>\n",
       "      <td>536365</td>\n",
       "      <td>84406B</td>\n",
       "      <td>CREAM CUPID HEARTS COAT HANGER</td>\n",
       "      <td>8</td>\n",
       "      <td>12/01/10 08:26</td>\n",
       "      <td>2.75</td>\n",
       "      <td>17850.0</td>\n",
       "      <td>United Kingdom</td>\n",
       "    </tr>\n",
       "    <tr>\n",
       "      <th>3</th>\n",
       "      <td>536365</td>\n",
       "      <td>84029G</td>\n",
       "      <td>KNITTED UNION FLAG HOT WATER BOTTLE</td>\n",
       "      <td>6</td>\n",
       "      <td>12/01/10 08:26</td>\n",
       "      <td>3.39</td>\n",
       "      <td>17850.0</td>\n",
       "      <td>United Kingdom</td>\n",
       "    </tr>\n",
       "    <tr>\n",
       "      <th>4</th>\n",
       "      <td>536365</td>\n",
       "      <td>84029E</td>\n",
       "      <td>RED WOOLLY HOTTIE WHITE HEART.</td>\n",
       "      <td>6</td>\n",
       "      <td>12/01/10 08:26</td>\n",
       "      <td>3.39</td>\n",
       "      <td>17850.0</td>\n",
       "      <td>United Kingdom</td>\n",
       "    </tr>\n",
       "  </tbody>\n",
       "</table>\n",
       "</div>"
      ],
      "text/plain": [
       "  InvoiceNo StockCode                          Description  Quantity  \\\n",
       "0    536365    85123A   WHITE HANGING HEART T-LIGHT HOLDER         6   \n",
       "1    536365     71053                  WHITE METAL LANTERN         6   \n",
       "2    536365    84406B       CREAM CUPID HEARTS COAT HANGER         8   \n",
       "3    536365    84029G  KNITTED UNION FLAG HOT WATER BOTTLE         6   \n",
       "4    536365    84029E       RED WOOLLY HOTTIE WHITE HEART.         6   \n",
       "\n",
       "      InvoiceDate  UnitPrice  CustomerID         Country  \n",
       "0  12/01/10 08:26       2.55     17850.0  United Kingdom  \n",
       "1  12/01/10 08:26       3.39     17850.0  United Kingdom  \n",
       "2  12/01/10 08:26       2.75     17850.0  United Kingdom  \n",
       "3  12/01/10 08:26       3.39     17850.0  United Kingdom  \n",
       "4  12/01/10 08:26       3.39     17850.0  United Kingdom  "
      ]
     },
     "metadata": {},
     "output_type": "display_data"
    },
    {
     "name": "stdout",
     "output_type": "stream",
     "text": [
      "(541909, 8)\n"
     ]
    }
   ],
   "source": [
    "csv_path = data_dir / 'csv/Online_Retail_4.csv'\n",
    "df = pd.read_csv(csv_path)\n",
    "display(df.head())\n",
    "print(df.shape)"
   ]
  },
  {
   "cell_type": "code",
   "execution_count": 15,
   "metadata": {},
   "outputs": [],
   "source": [
    "merge_dir = data_dir / 'merged'\n",
    "merge_csv = merge_dir / 'merge.csv'"
   ]
  },
  {
   "cell_type": "code",
   "execution_count": 16,
   "metadata": {},
   "outputs": [],
   "source": [
    "mdf = pd.read_csv(merge_csv)"
   ]
  },
  {
   "cell_type": "code",
   "execution_count": 19,
   "metadata": {},
   "outputs": [
    {
     "data": {
      "text/plain": [
       "(2167636, 8)"
      ]
     },
     "execution_count": 19,
     "metadata": {},
     "output_type": "execute_result"
    }
   ],
   "source": [
    "mdf.shape"
   ]
  },
  {
   "cell_type": "code",
   "execution_count": 4,
   "metadata": {},
   "outputs": [],
   "source": [
    "# df = pd.read_excel(data_path, engine='openpyxl')"
   ]
  },
  {
   "cell_type": "code",
   "execution_count": 20,
   "metadata": {
    "scrolled": false
   },
   "outputs": [
    {
     "name": "stderr",
     "output_type": "stream",
     "text": [
      "[autoreload of customerSeg.config failed: Traceback (most recent call last):\n",
      "  File \"/Users/jared/.local/share/virtualenvs/customer-segmenter-ur0fRmfV/lib/python3.8/site-packages/IPython/extensions/autoreload.py\", line 245, in check\n",
      "    superreload(m, reload, self.old_objects)\n",
      "  File \"/Users/jared/.local/share/virtualenvs/customer-segmenter-ur0fRmfV/lib/python3.8/site-packages/IPython/extensions/autoreload.py\", line 394, in superreload\n",
      "    module = reload(module)\n",
      "  File \"/opt/local/Library/Frameworks/Python.framework/Versions/3.8/lib/python3.8/imp.py\", line 314, in reload\n",
      "    return importlib.reload(module)\n",
      "  File \"/opt/local/Library/Frameworks/Python.framework/Versions/3.8/lib/python3.8/importlib/__init__.py\", line 159, in reload\n",
      "    raise ImportError(msg.format(parent_name),\n",
      "ImportError: parent 'customerSeg' not in sys.modules\n",
      "]\n"
     ]
    },
    {
     "data": {
      "text/plain": [
       "environ{'NVM_INC': '/Users/jared/.nvm/versions/node/v14.9.0/include/node',\n",
       "        'AS': '/Users/jared/anaconda3/bin/x86_64-apple-darwin13.4.0-as',\n",
       "        'LDFLAGS': '-Wl,-pie -Wl,-headerpad_max_install_names -Wl,-dead_strip_dylibs -Wl,-rpath,/Users/jared/anaconda3/lib -L/Users/jared/anaconda3/lib',\n",
       "        'AR': '/Users/jared/anaconda3/bin/x86_64-apple-darwin13.4.0-ar',\n",
       "        'RSTUDIO_WHICH_R': '/Users/jared/anaconda3/bin/R',\n",
       "        'CODESIGN_ALLOCATE': '/Users/jared/anaconda3/bin/x86_64-apple-darwin13.4.0-codesign_allocate',\n",
       "        'TERM_PROGRAM': 'Apple_Terminal',\n",
       "        'NVM_CD_FLAGS': '',\n",
       "        'HOST': 'x86_64-apple-darwin13.4.0',\n",
       "        'SHELL': '/bin/bash',\n",
       "        'TERM': 'xterm-color',\n",
       "        'NM': '/Users/jared/anaconda3/bin/x86_64-apple-darwin13.4.0-nm',\n",
       "        'CPPFLAGS': '-D_FORTIFY_SOURCE=2 -mmacosx-version-min=10.9 -isystem /Users/jared/anaconda3/include',\n",
       "        'TMPDIR': '/var/folders/y4/vn17w1wx7mv5dr73hnt9c6p00000gn/T/',\n",
       "        'PAGESTUFF': '/Users/jared/anaconda3/bin/x86_64-apple-darwin13.4.0-pagestuff',\n",
       "        'CONDA_SHLVL': '1',\n",
       "        'LIPO': '/Users/jared/anaconda3/bin/x86_64-apple-darwin13.4.0-lipo',\n",
       "        'CONDA_PROMPT_MODIFIER': '(base) ',\n",
       "        'TERM_PROGRAM_VERSION': '433',\n",
       "        'SIZE': '/Users/jared/anaconda3/bin/x86_64-apple-darwin13.4.0-size',\n",
       "        'NMEDIT': '/Users/jared/anaconda3/bin/x86_64-apple-darwin13.4.0-nmedit',\n",
       "        'OLDPWD': '/Users/jared/DevProjects/customer-segmenter/data',\n",
       "        'TERM_SESSION_ID': '665D6CE7-C0A3-47F8-9C9E-4A39315A2E7F',\n",
       "        'INSTALL_NAME_TOOL': '/Users/jared/anaconda3/bin/x86_64-apple-darwin13.4.0-install_name_tool',\n",
       "        'SEGEDIT': '/Users/jared/anaconda3/bin/x86_64-apple-darwin13.4.0-segedit',\n",
       "        'GFORTRAN': '/Users/jared/anaconda3/bin/x86_64-apple-darwin13.4.0-gfortran',\n",
       "        'NVM_DIR': '/Users/jared/.nvm',\n",
       "        'SEG_HACK': '/Users/jared/anaconda3/bin/x86_64-apple-darwin13.4.0-seg_hack',\n",
       "        'USER': 'jared',\n",
       "        'CLANGXX': '/Users/jared/anaconda3/bin/x86_64-apple-darwin13.4.0-clang++',\n",
       "        'LIBTOOL': '/Users/jared/anaconda3/bin/x86_64-apple-darwin13.4.0-libtool',\n",
       "        'CONDA_BACKUP_HOST': 'x86_64-apple-darwin13.4.0',\n",
       "        'CONDA_EXE': '/Users/jared/anaconda3/bin/conda',\n",
       "        'OTOOL': '/Users/jared/anaconda3/bin/x86_64-apple-darwin13.4.0-otool',\n",
       "        'SSH_AUTH_SOCK': '/private/tmp/com.apple.launchd.rtrUilbJ76/Listeners',\n",
       "        'DEBUG_FORTRANFLAGS': '-march=nocona -mtune=core2 -ftree-vectorize -fPIC -fstack-protector -O2 -pipe -march=nocona -mtune=core2 -ftree-vectorize -fPIC -fstack-protector -O2 -pipe -Og -g -Wall -Wextra -fcheck=all -fbacktrace -fimplicit-none -fvar-tracking-assignments',\n",
       "        'CXXFLAGS': '-march=core2 -mtune=haswell -mssse3 -ftree-vectorize -fPIC -fPIE -fstack-protector-strong -O2 -pipe -stdlib=libc++ -fvisibility-inlines-hidden -std=c++14 -fmessage-length=0 -isystem /Users/jared/anaconda3/include',\n",
       "        'BASH_SILENCE_DEPRECATION_WARNING': '1',\n",
       "        'CONDA_BUILD_SYSROOT': '/Applications/Xcode.app/Contents/Developer/Platforms/MacOSX.platform/Developer/SDKs/MacOSX.sdk',\n",
       "        'STRINGS': '/Users/jared/anaconda3/bin/x86_64-apple-darwin13.4.0-strings',\n",
       "        '_CE_CONDA': '',\n",
       "        'CHECKSYMS': '/Users/jared/anaconda3/bin/x86_64-apple-darwin13.4.0-checksyms',\n",
       "        'PATH': '/Users/jared/.local/share/virtualenvs/customer-segmenter-ur0fRmfV/bin:/Users/jared/.nvm/versions/node/v14.9.0/bin:/opt/local/bin:/opt/local/sbin:/Users/jared/anaconda3/bin:/Users/jared/anaconda3/bin:/Users/jared/anaconda3/condabin:/usr/local/bin:/usr/bin:/bin:/usr/sbin:/sbin',\n",
       "        'DEBUG_CXXFLAGS': '-march=core2 -mtune=haswell -mssse3 -ftree-vectorize -fPIC -fPIE -fstack-protector-strong -O2 -pipe -stdlib=libc++ -fvisibility-inlines-hidden -std=c++14 -fmessage-length=0 -Og -g -Wall -Wextra -isystem /Users/jared/anaconda3/include',\n",
       "        'LD': '/Users/jared/anaconda3/bin/x86_64-apple-darwin13.4.0-ld',\n",
       "        'CONDA_PREFIX': '/Users/jared/anaconda3',\n",
       "        'F90': '/Users/jared/anaconda3/bin/x86_64-apple-darwin13.4.0-gfortran',\n",
       "        'PWD': '/Users/jared/DevProjects/customer-segmenter',\n",
       "        'STRIP': '/Users/jared/anaconda3/bin/x86_64-apple-darwin13.4.0-strip',\n",
       "        'F95': '/Users/jared/anaconda3/bin/x86_64-apple-darwin13.4.0-gfortran',\n",
       "        'LANG': 'en_US.UTF-8',\n",
       "        'DEBUG_FFLAGS': '-march=nocona -mtune=core2 -ftree-vectorize -fPIC -fstack-protector -O2 -pipe -march=nocona -mtune=core2 -ftree-vectorize -fPIC -fstack-protector -O2 -pipe -Og -g -Wall -Wextra -fcheck=all -fbacktrace -fimplicit-none -fvar-tracking-assignments',\n",
       "        'XPC_FLAGS': '0x0',\n",
       "        'F77': '/Users/jared/anaconda3/bin/x86_64-apple-darwin13.4.0-gfortran',\n",
       "        'PS1': '(base) \\\\h:\\\\W \\\\u\\\\$ ',\n",
       "        'REDO_PREBINDING': '/Users/jared/anaconda3/bin/x86_64-apple-darwin13.4.0-redo_prebinding',\n",
       "        'CXX': 'x86_64-apple-darwin13.4.0-clang++',\n",
       "        'CLANG': '/Users/jared/anaconda3/bin/x86_64-apple-darwin13.4.0-clang',\n",
       "        '_CE_M': '',\n",
       "        'XPC_SERVICE_NAME': '0',\n",
       "        'SHLVL': '1',\n",
       "        'HOME': '/Users/jared',\n",
       "        'FORTRANFLAGS': '-march=nocona -mtune=core2 -ftree-vectorize -fPIC -fstack-protector -O2 -pipe',\n",
       "        'CFLAGS': '-march=core2 -mtune=haswell -mssse3 -ftree-vectorize -fPIC -fPIE -fstack-protector-strong -O2 -pipe -isystem /Users/jared/anaconda3/include',\n",
       "        '_CONDA_PYTHON_SYSCONFIGDATA_NAME': '_sysconfigdata_x86_64_apple_darwin13_4_0',\n",
       "        'FC': '/Users/jared/anaconda3/bin/x86_64-apple-darwin13.4.0-gfortran',\n",
       "        'INDR': '/Users/jared/anaconda3/bin/x86_64-apple-darwin13.4.0-indr',\n",
       "        'CONDA_PYTHON_EXE': '/Users/jared/anaconda3/bin/python',\n",
       "        'LOGNAME': 'jared',\n",
       "        'NVM_BIN': '/Users/jared/.nvm/versions/node/v14.9.0/bin',\n",
       "        'CONDA_DEFAULT_ENV': 'base',\n",
       "        'DEBUG_CFLAGS': '-march=core2 -mtune=haswell -mssse3 -ftree-vectorize -fPIC -fPIE -fstack-protector-strong -O2 -pipe -Og -g -Wall -Wextra -isystem /Users/jared/anaconda3/include',\n",
       "        'RANLIB': '/Users/jared/anaconda3/bin/x86_64-apple-darwin13.4.0-ranlib',\n",
       "        'CMAKE_PREFIX_PATH': ':/Users/jared/anaconda3',\n",
       "        'CC': 'x86_64-apple-darwin13.4.0-clang',\n",
       "        'SEG_ADDR_TABLE': '/Users/jared/anaconda3/bin/x86_64-apple-darwin13.4.0-seg_addr_table',\n",
       "        'DISPLAY': '/private/tmp/com.apple.launchd.BQpO4rgXfy/org.macosforge.xquartz:0',\n",
       "        'LDFLAGS_LD': '-pie -headerpad_max_install_names -dead_strip_dylibs -rpath /Users/jared/anaconda3/lib -L/Users/jared/anaconda3/lib',\n",
       "        'FFLAGS': '-march=nocona -mtune=core2 -ftree-vectorize -fPIC -fstack-protector -O2 -pipe',\n",
       "        '_': '/Users/jared/anaconda3/bin/pipenv',\n",
       "        'PIP_DISABLE_PIP_VERSION_CHECK': '1',\n",
       "        'PYTHONDONTWRITEBYTECODE': '1',\n",
       "        'PIP_PYTHON_PATH': '/Users/jared/anaconda3/bin/python',\n",
       "        '__CF_USER_TEXT_ENCODING': '0x1F5:0x0:0x0',\n",
       "        'VIRTUAL_ENV': '/Users/jared/.local/share/virtualenvs/customer-segmenter-ur0fRmfV',\n",
       "        'PIPENV_ACTIVE': '1',\n",
       "        'JPY_PARENT_PID': '28953',\n",
       "        'CLICOLOR': '1',\n",
       "        'PAGER': 'cat',\n",
       "        'GIT_PAGER': 'cat',\n",
       "        'MPLBACKEND': 'module://ipykernel.pylab.backend_inline'}"
      ]
     },
     "execution_count": 20,
     "metadata": {},
     "output_type": "execute_result"
    }
   ],
   "source": [
    "os.environ"
   ]
  }
 ],
 "metadata": {
  "kernelspec": {
   "display_name": "customer-segmenter",
   "language": "python",
   "name": "customer-segmenter"
  },
  "language_info": {
   "codemirror_mode": {
    "name": "ipython",
    "version": 3
   },
   "file_extension": ".py",
   "mimetype": "text/x-python",
   "name": "python",
   "nbconvert_exporter": "python",
   "pygments_lexer": "ipython3",
   "version": "3.8.5"
  }
 },
 "nbformat": 4,
 "nbformat_minor": 4
}
